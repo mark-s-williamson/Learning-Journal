{
 "cells": [
  {
   "cell_type": "code",
   "execution_count": 1,
   "id": "5ffc7c8b",
   "metadata": {},
   "outputs": [],
   "source": [
    "import hashlib\n",
    "import re\n",
    "from datetime import datetime, timezone\n",
    "import pandas as pd\n",
    "import sqlite3"
   ]
  },
  {
   "cell_type": "code",
   "execution_count": 2,
   "id": "e657e8fe",
   "metadata": {},
   "outputs": [],
   "source": [
    "EXCLUSION_LIST = ['BLANK', '-', 'NA', 'NONE', '{NULL}', 'VIDE']"
   ]
  },
  {
   "cell_type": "code",
   "execution_count": 3,
   "id": "32d0e988",
   "metadata": {},
   "outputs": [],
   "source": [
    "# clean column names\n",
    "def clean_cols(df: pd.DataFrame) -> pd.DataFrame:\n",
    "    df.columns = [col.strip().lower().replace(' ', '_') for col in df.columns]\n",
    "    return df"
   ]
  },
  {
   "cell_type": "code",
   "execution_count": 4,
   "id": "da98de32",
   "metadata": {},
   "outputs": [],
   "source": [
    "def clean_dob(dob, age):\n",
    "    if dob > datetime.now() and age < 100:\n",
    "        dob = dob.replace(year=datetime.now().year - age)\n",
    "    if age >= 100 and dob.year > datetime.now().year - 100:\n",
    "        dob = dob.replace(year=datetime.now().year - age)\n",
    "    return dob"
   ]
  },
  {
   "cell_type": "code",
   "execution_count": 5,
   "id": "c85204fa",
   "metadata": {},
   "outputs": [],
   "source": [
    "def clean_column(value, exclusions=EXCLUSION_LIST):\n",
    "    if isinstance(value, str) and value.strip().upper() in exclusions:\n",
    "        return None\n",
    "    elif isinstance(value, float) and pd.isna(value):\n",
    "        return None\n",
    "    else:\n",
    "        return value"
   ]
  },
  {
   "cell_type": "code",
   "execution_count": 6,
   "id": "aed2fab7",
   "metadata": {},
   "outputs": [],
   "source": [
    "def hash_password(pw: str) -> str:\n",
    "    if pw is None:\n",
    "        return None\n",
    "    else:\n",
    "        return hashlib.sha256(pw.encode('utf-8')).hexdigest()"
   ]
  },
  {
   "cell_type": "code",
   "execution_count": 7,
   "id": "4878c227",
   "metadata": {},
   "outputs": [],
   "source": [
    "def clean_salary(salary: str, period:int=1) -> float:\n",
    "    if salary is None:\n",
    "        return None\n",
    "    else:\n",
    "        salary = (int(re.sub(r'[^\\d]', '', salary))/100) * period\n",
    "        return salary"
   ]
  },
  {
   "cell_type": "code",
   "execution_count": 14,
   "id": "b47611b8",
   "metadata": {},
   "outputs": [],
   "source": [
    "def clean_phone_number(df:pd.DataFrame, column:str) -> pd.DataFrame:\n",
    "    df[column] = df[column].str.replace(' ', '')\n",
    "    return df"
   ]
  },
  {
   "cell_type": "code",
   "execution_count": null,
   "id": "00821f53",
   "metadata": {},
   "outputs": [],
   "source": [
    "fr_mapping_columns = {\n",
    "    'Prénom': 'first_name',\n",
    "    'Nom de famille': 'surname',\n",
    "    'DdN': 'dob',\n",
    "    '\\nÂge dernier anniversaire': 'age_last_birthday',\n",
    "    'Couleur préférée': 'favourite_colour',\n",
    "    'Animal préféré': 'favourite_animal',\n",
    "    'Plat préféré': 'favourite_food',\n",
    "    'Genre': 'gender',\n",
    "    'Mot de passe': 'password',\n",
    "    'Ville': 'city',\n",
    "    'Département': 'county',\n",
    "    'Code postal': 'postcode',\n",
    "    'Adresse électronique': 'email',\n",
    "    'Téléphone': 'phone',\n",
    "    'Portable ': 'mobile',\n",
    "    'BAC+': 'education',\n",
    "    ' Salaire ': 'salary',\n",
    "    'Visites du site Web au cours des 30 derniers jours': 'website_visits_last_30_days'\n",
    " }"
   ]
  },
  {
   "cell_type": "code",
   "execution_count": 34,
   "id": "cab284be",
   "metadata": {},
   "outputs": [],
   "source": [
    "def load_user_data(filepath:str,\n",
    "                   encoding:str='utf-8',\n",
    "                   date_format:str='%d/%m/%y',\n",
    "                   mapping=None):\n",
    "    df = pd.read_csv(filepath, encoding=encoding)\n",
    "    if mapping:\n",
    "        df.rename(columns=mapping, inplace=True)\n",
    "    df = clean_cols(df)\n",
    "    df['dob'] = pd.to_datetime(df['dob'], format=date_format, errors='coerce')\n",
    "    return df"
   ]
  },
  {
   "cell_type": "code",
   "execution_count": 49,
   "id": "e338b93c",
   "metadata": {},
   "outputs": [],
   "source": [
    "def transform_users_df(users:pd.DataFrame,\n",
    "                       country_code:str,\n",
    "                       currency:str='GBP',\n",
    "                       salary_period:int=1,\n",
    "                       mapping_gender=None,\n",
    "                       mapping_education=None):\n",
    "    for col in users.columns:\n",
    "        users[col] = users[col].apply(lambda x: clean_column(x, EXCLUSION_LIST))\n",
    "    # hash passwords\n",
    "    users['password'] = users['password'].apply(hash_password)\n",
    "    # clean dob\n",
    "    users['dob'] = users.apply(lambda x: clean_dob(x['dob'], x['age_last_birthday']), axis=1)\n",
    "    # clean gender\n",
    "    if mapping_gender:\n",
    "        users['gender'] = users['gender'].replace(mapping_gender)\n",
    "    # clean phone numbers\n",
    "    clean_phone_number(users, 'phone')\n",
    "    clean_phone_number(users, 'mobile')\n",
    "    # clean salary\n",
    "    users['salary'] = users['salary'].apply(lambda x: clean_salary(x, salary_period))\n",
    "    users['currency'] = currency\n",
    "    # add rqf column if it doesn't exist\n",
    "    if mapping_education and 'rqf' not in users.columns:\n",
    "        users['rqf'] = users['education'].map(mapping_education)\n",
    "    # add country code\n",
    "    users['country_code'] = country_code\n",
    "    return users"
   ]
  },
  {
   "cell_type": "code",
   "execution_count": 43,
   "id": "ba6df578",
   "metadata": {},
   "outputs": [],
   "source": [
    "fr_mapping_gender = {'F':'Female', 'M': 'Male', 'NB': 'Non-Binary'}"
   ]
  },
  {
   "cell_type": "code",
   "execution_count": 12,
   "id": "82514083",
   "metadata": {},
   "outputs": [],
   "source": [
    "fr_mapping_education = {\n",
    "    'Baccalauréat':3,\n",
    "    'Licentiate':6,\n",
    "    'Master':7,\n",
    "    'CFA':5,\n",
    "    'Collège':1,\n",
    "    'Lycée':2,\n",
    "    'Doctorat':8\n",
    "    }"
   ]
  },
  {
   "cell_type": "code",
   "execution_count": 50,
   "id": "43d1c0f8",
   "metadata": {},
   "outputs": [],
   "source": [
    "users_uk = load_user_data('data/UK User Data.csv',\n",
    "                          encoding='latin1')\n",
    "users_uk = transform_users_df(users_uk,\n",
    "                              country_code='UK')\n",
    "users_fr = load_user_data('data/FR User Data.csv',\n",
    "                          date_format='%y-%m-%d',\n",
    "                          mapping=fr_mapping_columns)\n",
    "users_fr = transform_users_df(users_fr,\n",
    "                              country_code='FR',\n",
    "                              currency='EUR',\n",
    "                              salary_period=12,\n",
    "                              mapping_gender=fr_mapping_gender,\n",
    "                              mapping_education=fr_mapping_education)"
   ]
  },
  {
   "cell_type": "code",
   "execution_count": 52,
   "id": "a3e6f8c2",
   "metadata": {},
   "outputs": [],
   "source": [
    "def load_login_data(filepath:str,timezone:str='Europe/London'):\n",
    "    df = pd.read_csv(filepath)\n",
    "    df.columns = ['login_id', 'username', 'login_timestamp']\n",
    "    df.drop(columns=['login_id'], inplace=True)\n",
    "    df['login_timestamp'] = pd.to_datetime(df['login_timestamp'], unit='s', utc=False)\n",
    "    df['login_timestamp'] = df['login_timestamp'].dt.tz_localize(timezone).dt.tz_convert('UTC')\n",
    "    return df"
   ]
  },
  {
   "cell_type": "code",
   "execution_count": 53,
   "id": "0f62f397",
   "metadata": {},
   "outputs": [],
   "source": [
    "logins_uk = load_login_data('data/UK-User-LoginTS.csv')\n",
    "logins_fr = load_login_data('data/FR-User-LoginTS.csv', timezone='Europe/Paris')"
   ]
  },
  {
   "cell_type": "code",
   "execution_count": 60,
   "id": "d85cc848",
   "metadata": {},
   "outputs": [],
   "source": [
    "with open('create_database.sql', 'r', encoding='utf-8') as f:\n",
    "    create_sql = f.read()\n",
    "conn = sqlite3.connect('customers.db')\n",
    "try:\n",
    "    conn.executescript(create_sql)\n",
    "    users_uk.to_sql('users', conn, if_exists='append', index=False)\n",
    "    users_fr.to_sql('users', conn, if_exists='append', index=False)\n",
    "    logins_uk.to_sql('logins', conn, if_exists='append', index=False)\n",
    "    logins_fr.to_sql('logins', conn, if_exists='append', index=False)\n",
    "    conn.commit()\n",
    "finally:\n",
    "    conn.close()"
   ]
  }
 ],
 "metadata": {
  "kernelspec": {
   "display_name": ".venv",
   "language": "python",
   "name": "python3"
  },
  "language_info": {
   "codemirror_mode": {
    "name": "ipython",
    "version": 3
   },
   "file_extension": ".py",
   "mimetype": "text/x-python",
   "name": "python",
   "nbconvert_exporter": "python",
   "pygments_lexer": "ipython3",
   "version": "3.13.0rc2"
  }
 },
 "nbformat": 4,
 "nbformat_minor": 5
}
